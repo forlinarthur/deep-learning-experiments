{
  "nbformat": 4,
  "nbformat_minor": 0,
  "metadata": {
    "kernelspec": {
      "display_name": "Python 3",
      "language": "python",
      "name": "python3"
    },
    "language_info": {
      "codemirror_mode": {
        "name": "ipython",
        "version": 3
      },
      "file_extension": ".py",
      "mimetype": "text/x-python",
      "name": "python",
      "nbconvert_exporter": "python",
      "pygments_lexer": "ipython3",
      "version": "3.7.3"
    },
    "colab": {
      "name": "05-Neural-Network-Exercises.ipynb",
      "provenance": [],
      "toc_visible": true,
      "include_colab_link": true
    }
  },
  "cells": [
    {
      "cell_type": "markdown",
      "metadata": {
        "id": "view-in-github",
        "colab_type": "text"
      },
      "source": [
        "<a href=\"https://colab.research.google.com/github/forlinarthur/deep-learning-experiments/blob/master/05_Neural_Network_Exercises.ipynb\" target=\"_parent\"><img src=\"https://colab.research.google.com/assets/colab-badge.svg\" alt=\"Open In Colab\"/></a>"
      ]
    },
    {
      "cell_type": "markdown",
      "metadata": {
        "id": "0xWPcW2d6Z2u",
        "colab_type": "text"
      },
      "source": [
        "<img src=\"../Pierian-Data-Logo.PNG\">\n",
        "<br>\n",
        "<strong><center>Copyright 2019. Created by Jose Marcial Portilla.</center></strong>"
      ]
    },
    {
      "cell_type": "markdown",
      "metadata": {
        "collapsed": true,
        "id": "gQPdT0uX6Z2u",
        "colab_type": "text"
      },
      "source": [
        "# Neural Network Exercises\n",
        "For these exercises we'll perform a binary classification on the Census Income dataset available from the <a href = 'http://archive.ics.uci.edu/ml/datasets/Adult'>UC Irvine Machine Learning Repository</a><br>\n",
        "The goal is to determine if an individual earns more than $50K based on a set of continuous and categorical variables.\n",
        "\n",
        "<div class=\"alert alert-danger\" style=\"margin: 10px\"><strong>IMPORTANT NOTE!</strong> Make sure you don't run the cells directly above the example output shown, <br>otherwise you will end up writing over the example output!</div>"
      ]
    },
    {
      "cell_type": "markdown",
      "metadata": {
        "id": "H1aTmD1K6Z2v",
        "colab_type": "text"
      },
      "source": [
        "## Census Income Dataset\n",
        "For this exercises we're using the Census Income dataset available from the <a href='http://archive.ics.uci.edu/ml/datasets/Adult'>UC Irvine Machine Learning Repository</a>.\n",
        "\n",
        "The full dataset has 48,842 entries. For this exercise we have reduced the number of records, fields and field entries, and have removed entries with null values. The file <strong>income.csv</strong> has\t30,000 entries\n",
        "\n",
        "Each entry contains the following information about an individual:\n",
        "* <strong>age</strong>: the age of an individual as an integer from 18 to 90 (continuous)\n",
        "* <strong>sex</strong>: Male or Female (categorical)\n",
        "* <strong>education</strong>: represents the highest level of education achieved by an individual (categorical)\n",
        "* <strong>education_num</strong>: represents education as an integer from 3 to 16 (categorical)\n",
        "<div><table style=\"display: inline-block\">\n",
        "<tr><td>3</td><td>5th-6th</td><td>8</td><td>12th</td><td>13</td><td>Bachelors</td></tr>\n",
        "<tr><td>4</td><td>7th-8th</td><td>9</td><td>HS-grad</td><td>14</td><td>Masters</td></tr>\n",
        "<tr><td>5</td><td>9th</td><td>10</td><td>Some-college</td><td>15</td><td>Prof-school</td></tr>\n",
        "<tr><td>6</td><td>10th</td><td>11</td><td>Assoc-voc</td><td>16</td><td>Doctorate</td></tr>\n",
        "<tr><td>7</td><td>11th</td><td>12</td><td>Assoc-acdm</td></tr>\n",
        "</table></div>\n",
        "* <strong>marital-status</strong>: marital status of an individual (categorical)\n",
        "<div><table style=\"display: inline-block\">\n",
        "<tr><td>Married</td><td>Divorced</td><td>Married-spouse-absent</td></tr>\n",
        "<tr><td>Separated</td><td>Widowed</td><td>Never-married</td></tr>\n",
        "</table></div>\n",
        "* <strong>workclass</strong>: a general term to represent the employment status of an individual (categorical)\n",
        "<div><table style=\"display: inline-block\">\n",
        "<tr><td>Local-gov</td><td>Private</td></tr>\n",
        "<tr><td>State-gov</td><td>Self-emp</td></tr>\n",
        "<tr><td>Federal-gov</td></tr>\n",
        "</table></div>\n",
        "* <strong>occupation</strong>: the general type of occupation of an individual (categorical)\n",
        "<div><table style=\"display: inline-block\">\n",
        "<tr><td>Adm-clerical</td><td>Handlers-cleaners</td><td>Protective-serv</td></tr>\n",
        "<tr><td>Craft-repair</td><td>Machine-op-inspct</td><td>Sales</td></tr>\n",
        "<tr><td>Exec-managerial</td><td>Other-service</td><td>Tech-support</td></tr>\n",
        "<tr><td>Farming-fishing</td><td>Prof-specialty</td><td>Transport-moving</td></tr>\n",
        "</table></div>\n",
        "* <strong>hours-per-week</strong>: the hours an individual has reported to work per week as an integer from 20 to 90 (continuous)\n",
        "* <strong>income</strong>: whether or not an individual makes more than \\\\$50,000 annually (label)\n",
        "* <strong>label</strong>: income represented as an integer (0: <=\\\\$50K, 1: >\\\\$50K) (optional label)"
      ]
    },
    {
      "cell_type": "markdown",
      "metadata": {
        "id": "DdsS4r2r6Z2v",
        "colab_type": "text"
      },
      "source": [
        "## Perform standard imports\n",
        "Run the cell below to load the libraries needed for this exercise and the Census Income dataset."
      ]
    },
    {
      "cell_type": "code",
      "metadata": {
        "id": "OW4MFGGQ6Z2w",
        "colab_type": "code",
        "colab": {}
      },
      "source": [
        "import torch\n",
        "import torch.nn as nn\n",
        "\n",
        "import numpy as np\n",
        "import pandas as pd\n",
        "import matplotlib.pyplot as plt\n",
        "from sklearn.utils import shuffle\n",
        "%matplotlib inline\n",
        "\n",
        "df = pd.read_csv('drive/My Drive/Data/income.csv')"
      ],
      "execution_count": 0,
      "outputs": []
    },
    {
      "cell_type": "code",
      "metadata": {
        "scrolled": true,
        "id": "WIP8d1vs6Z2y",
        "colab_type": "code",
        "colab": {
          "base_uri": "https://localhost:8080/",
          "height": 212
        },
        "outputId": "ea30e3ea-dbdf-42f2-e638-d4d4d48283c4"
      },
      "source": [
        "print(len(df))\n",
        "df.head()"
      ],
      "execution_count": 65,
      "outputs": [
        {
          "output_type": "stream",
          "text": [
            "30000\n"
          ],
          "name": "stdout"
        },
        {
          "output_type": "execute_result",
          "data": {
            "text/html": [
              "<div>\n",
              "<style scoped>\n",
              "    .dataframe tbody tr th:only-of-type {\n",
              "        vertical-align: middle;\n",
              "    }\n",
              "\n",
              "    .dataframe tbody tr th {\n",
              "        vertical-align: top;\n",
              "    }\n",
              "\n",
              "    .dataframe thead th {\n",
              "        text-align: right;\n",
              "    }\n",
              "</style>\n",
              "<table border=\"1\" class=\"dataframe\">\n",
              "  <thead>\n",
              "    <tr style=\"text-align: right;\">\n",
              "      <th></th>\n",
              "      <th>age</th>\n",
              "      <th>sex</th>\n",
              "      <th>education</th>\n",
              "      <th>education-num</th>\n",
              "      <th>marital-status</th>\n",
              "      <th>workclass</th>\n",
              "      <th>occupation</th>\n",
              "      <th>hours-per-week</th>\n",
              "      <th>income</th>\n",
              "      <th>label</th>\n",
              "    </tr>\n",
              "  </thead>\n",
              "  <tbody>\n",
              "    <tr>\n",
              "      <th>0</th>\n",
              "      <td>27</td>\n",
              "      <td>Male</td>\n",
              "      <td>HS-grad</td>\n",
              "      <td>9</td>\n",
              "      <td>Never-married</td>\n",
              "      <td>Private</td>\n",
              "      <td>Craft-repair</td>\n",
              "      <td>40</td>\n",
              "      <td>&lt;=50K</td>\n",
              "      <td>0</td>\n",
              "    </tr>\n",
              "    <tr>\n",
              "      <th>1</th>\n",
              "      <td>47</td>\n",
              "      <td>Male</td>\n",
              "      <td>Masters</td>\n",
              "      <td>14</td>\n",
              "      <td>Married</td>\n",
              "      <td>Local-gov</td>\n",
              "      <td>Exec-managerial</td>\n",
              "      <td>50</td>\n",
              "      <td>&gt;50K</td>\n",
              "      <td>1</td>\n",
              "    </tr>\n",
              "    <tr>\n",
              "      <th>2</th>\n",
              "      <td>59</td>\n",
              "      <td>Male</td>\n",
              "      <td>HS-grad</td>\n",
              "      <td>9</td>\n",
              "      <td>Divorced</td>\n",
              "      <td>Self-emp</td>\n",
              "      <td>Prof-specialty</td>\n",
              "      <td>20</td>\n",
              "      <td>&lt;=50K</td>\n",
              "      <td>0</td>\n",
              "    </tr>\n",
              "    <tr>\n",
              "      <th>3</th>\n",
              "      <td>38</td>\n",
              "      <td>Female</td>\n",
              "      <td>Prof-school</td>\n",
              "      <td>15</td>\n",
              "      <td>Never-married</td>\n",
              "      <td>Federal-gov</td>\n",
              "      <td>Prof-specialty</td>\n",
              "      <td>57</td>\n",
              "      <td>&gt;50K</td>\n",
              "      <td>1</td>\n",
              "    </tr>\n",
              "    <tr>\n",
              "      <th>4</th>\n",
              "      <td>64</td>\n",
              "      <td>Female</td>\n",
              "      <td>11th</td>\n",
              "      <td>7</td>\n",
              "      <td>Widowed</td>\n",
              "      <td>Private</td>\n",
              "      <td>Farming-fishing</td>\n",
              "      <td>40</td>\n",
              "      <td>&lt;=50K</td>\n",
              "      <td>0</td>\n",
              "    </tr>\n",
              "  </tbody>\n",
              "</table>\n",
              "</div>"
            ],
            "text/plain": [
              "   age     sex    education  ...  hours-per-week income label\n",
              "0   27    Male      HS-grad  ...              40  <=50K     0\n",
              "1   47    Male      Masters  ...              50   >50K     1\n",
              "2   59    Male      HS-grad  ...              20  <=50K     0\n",
              "3   38  Female  Prof-school  ...              57   >50K     1\n",
              "4   64  Female         11th  ...              40  <=50K     0\n",
              "\n",
              "[5 rows x 10 columns]"
            ]
          },
          "metadata": {
            "tags": []
          },
          "execution_count": 65
        }
      ]
    },
    {
      "cell_type": "code",
      "metadata": {
        "id": "VF-n0b5h6Z21",
        "colab_type": "code",
        "colab": {
          "base_uri": "https://localhost:8080/",
          "height": 67
        },
        "outputId": "f15bbed9-af35-43bf-9f89-ef8b14e5442f"
      },
      "source": [
        "df['label'].value_counts()"
      ],
      "execution_count": 66,
      "outputs": [
        {
          "output_type": "execute_result",
          "data": {
            "text/plain": [
              "0    21700\n",
              "1     8300\n",
              "Name: label, dtype: int64"
            ]
          },
          "metadata": {
            "tags": []
          },
          "execution_count": 66
        }
      ]
    },
    {
      "cell_type": "markdown",
      "metadata": {
        "id": "oWI3qiJ-6Z23",
        "colab_type": "text"
      },
      "source": [
        "### 1. Separate continuous, categorical and label column names\n",
        "You should find that there are 5 categorical columns, 2 continuous columns and 1 label.<br>\n",
        "In the case of <em>education</em> and <em>education-num</em> it doesn't matter which column you use. For the label column, be sure to use <em>label</em> and not <em>income</em>.<br>\n",
        "Assign the variable names \"cat_cols\", \"cont_cols\" and \"y_col\" to the lists of names."
      ]
    },
    {
      "cell_type": "code",
      "metadata": {
        "id": "1YUeEBn-6Z24",
        "colab_type": "code",
        "colab": {
          "base_uri": "https://localhost:8080/",
          "height": 67
        },
        "outputId": "4bbb11e7-5ba9-42aa-b906-d320d0567fb9"
      },
      "source": [
        "df.columns"
      ],
      "execution_count": 67,
      "outputs": [
        {
          "output_type": "execute_result",
          "data": {
            "text/plain": [
              "Index(['age', 'sex', 'education', 'education-num', 'marital-status',\n",
              "       'workclass', 'occupation', 'hours-per-week', 'income', 'label'],\n",
              "      dtype='object')"
            ]
          },
          "metadata": {
            "tags": []
          },
          "execution_count": 67
        }
      ]
    },
    {
      "cell_type": "code",
      "metadata": {
        "id": "1DAW9Yba6Z27",
        "colab_type": "code",
        "colab": {
          "base_uri": "https://localhost:8080/",
          "height": 67
        },
        "outputId": "16bf22c0-6bf8-41f7-e90d-0aabfaef7d61"
      },
      "source": [
        "# CODE HERE\n",
        "\n",
        "cat_cols = ['sex', 'education', 'marital-status', 'workclass', 'occupation']\n",
        "cont_cols = ['age', 'hours-per-week']\n",
        "y_col = ['label']\n",
        "\n",
        "\n",
        "\n",
        "\n",
        "# RUN THIS CODE TO COMPARE RESULTS:\n",
        "print(f'cat_cols  has {len(cat_cols)} columns')\n",
        "print(f'cont_cols has {len(cont_cols)} columns')\n",
        "print(f'y_col     has {len(y_col)} column')"
      ],
      "execution_count": 68,
      "outputs": [
        {
          "output_type": "stream",
          "text": [
            "cat_cols  has 5 columns\n",
            "cont_cols has 2 columns\n",
            "y_col     has 1 column\n"
          ],
          "name": "stdout"
        }
      ]
    },
    {
      "cell_type": "code",
      "metadata": {
        "id": "OMW4DjWr6Z2-",
        "colab_type": "code",
        "colab": {},
        "outputId": "f27fdca0-fa94-4a1a-aa14-9ef80c7955d9"
      },
      "source": [
        "# DON'T WRITE HERE"
      ],
      "execution_count": 0,
      "outputs": [
        {
          "output_type": "stream",
          "text": [
            "cat_cols  has 5 columns\n",
            "cont_cols has 2 columns\n",
            "y_col     has 1 column\n"
          ],
          "name": "stdout"
        }
      ]
    },
    {
      "cell_type": "markdown",
      "metadata": {
        "id": "lIWZyZQF6Z3A",
        "colab_type": "text"
      },
      "source": [
        "### 2. Convert categorical columns to category dtypes"
      ]
    },
    {
      "cell_type": "code",
      "metadata": {
        "id": "aMtFASyI6Z3B",
        "colab_type": "code",
        "colab": {
          "base_uri": "https://localhost:8080/",
          "height": 202
        },
        "outputId": "4f3892a7-4885-4d5f-d056-a03adb8f662b"
      },
      "source": [
        "# CODE HERE\n",
        "for cat in cat_cols:\n",
        "  df[cat] = df[cat].astype('category')\n",
        "\n",
        "df.dtypes\n",
        "\n",
        "\n",
        "\n"
      ],
      "execution_count": 69,
      "outputs": [
        {
          "output_type": "execute_result",
          "data": {
            "text/plain": [
              "age                  int64\n",
              "sex               category\n",
              "education         category\n",
              "education-num        int64\n",
              "marital-status    category\n",
              "workclass         category\n",
              "occupation        category\n",
              "hours-per-week       int64\n",
              "income              object\n",
              "label                int64\n",
              "dtype: object"
            ]
          },
          "metadata": {
            "tags": []
          },
          "execution_count": 69
        }
      ]
    },
    {
      "cell_type": "code",
      "metadata": {
        "id": "bEQNog6m6Z3D",
        "colab_type": "code",
        "colab": {}
      },
      "source": [
        "# DON'T WRITE HERE"
      ],
      "execution_count": 0,
      "outputs": []
    },
    {
      "cell_type": "markdown",
      "metadata": {
        "id": "Krpyt3a16Z3F",
        "colab_type": "text"
      },
      "source": [
        "### Optional: Shuffle the dataset\n",
        "The <strong>income.csv</strong> dataset is already shuffled. However, if you would like to try different configurations after completing the exercises, this is where you would want to shuffle the entire set."
      ]
    },
    {
      "cell_type": "code",
      "metadata": {
        "id": "ENLcxrn36Z3F",
        "colab_type": "code",
        "colab": {
          "base_uri": "https://localhost:8080/",
          "height": 195
        },
        "outputId": "84fe3869-7fb3-4944-cdce-90674500202a"
      },
      "source": [
        "# THIS CELL IS OPTIONAL\n",
        "df = shuffle(df, random_state=101)\n",
        "df.reset_index(drop=True, inplace=True)\n",
        "df.head()"
      ],
      "execution_count": 8,
      "outputs": [
        {
          "output_type": "execute_result",
          "data": {
            "text/html": [
              "<div>\n",
              "<style scoped>\n",
              "    .dataframe tbody tr th:only-of-type {\n",
              "        vertical-align: middle;\n",
              "    }\n",
              "\n",
              "    .dataframe tbody tr th {\n",
              "        vertical-align: top;\n",
              "    }\n",
              "\n",
              "    .dataframe thead th {\n",
              "        text-align: right;\n",
              "    }\n",
              "</style>\n",
              "<table border=\"1\" class=\"dataframe\">\n",
              "  <thead>\n",
              "    <tr style=\"text-align: right;\">\n",
              "      <th></th>\n",
              "      <th>age</th>\n",
              "      <th>sex</th>\n",
              "      <th>education</th>\n",
              "      <th>education-num</th>\n",
              "      <th>marital-status</th>\n",
              "      <th>workclass</th>\n",
              "      <th>occupation</th>\n",
              "      <th>hours-per-week</th>\n",
              "      <th>income</th>\n",
              "      <th>label</th>\n",
              "    </tr>\n",
              "  </thead>\n",
              "  <tbody>\n",
              "    <tr>\n",
              "      <th>0</th>\n",
              "      <td>23</td>\n",
              "      <td>Female</td>\n",
              "      <td>HS-grad</td>\n",
              "      <td>9</td>\n",
              "      <td>Never-married</td>\n",
              "      <td>Private</td>\n",
              "      <td>Other-service</td>\n",
              "      <td>50</td>\n",
              "      <td>&lt;=50K</td>\n",
              "      <td>0</td>\n",
              "    </tr>\n",
              "    <tr>\n",
              "      <th>1</th>\n",
              "      <td>37</td>\n",
              "      <td>Female</td>\n",
              "      <td>Prof-school</td>\n",
              "      <td>15</td>\n",
              "      <td>Married</td>\n",
              "      <td>State-gov</td>\n",
              "      <td>Prof-specialty</td>\n",
              "      <td>39</td>\n",
              "      <td>&gt;50K</td>\n",
              "      <td>1</td>\n",
              "    </tr>\n",
              "    <tr>\n",
              "      <th>2</th>\n",
              "      <td>34</td>\n",
              "      <td>Male</td>\n",
              "      <td>Some-college</td>\n",
              "      <td>10</td>\n",
              "      <td>Divorced</td>\n",
              "      <td>Private</td>\n",
              "      <td>Adm-clerical</td>\n",
              "      <td>40</td>\n",
              "      <td>&lt;=50K</td>\n",
              "      <td>0</td>\n",
              "    </tr>\n",
              "    <tr>\n",
              "      <th>3</th>\n",
              "      <td>31</td>\n",
              "      <td>Male</td>\n",
              "      <td>HS-grad</td>\n",
              "      <td>9</td>\n",
              "      <td>Married</td>\n",
              "      <td>Private</td>\n",
              "      <td>Craft-repair</td>\n",
              "      <td>40</td>\n",
              "      <td>&gt;50K</td>\n",
              "      <td>1</td>\n",
              "    </tr>\n",
              "    <tr>\n",
              "      <th>4</th>\n",
              "      <td>20</td>\n",
              "      <td>Female</td>\n",
              "      <td>Some-college</td>\n",
              "      <td>10</td>\n",
              "      <td>Never-married</td>\n",
              "      <td>Private</td>\n",
              "      <td>Sales</td>\n",
              "      <td>25</td>\n",
              "      <td>&lt;=50K</td>\n",
              "      <td>0</td>\n",
              "    </tr>\n",
              "  </tbody>\n",
              "</table>\n",
              "</div>"
            ],
            "text/plain": [
              "   age     sex     education  ...  hours-per-week income label\n",
              "0   23  Female       HS-grad  ...              50  <=50K     0\n",
              "1   37  Female   Prof-school  ...              39   >50K     1\n",
              "2   34    Male  Some-college  ...              40  <=50K     0\n",
              "3   31    Male       HS-grad  ...              40   >50K     1\n",
              "4   20  Female  Some-college  ...              25  <=50K     0\n",
              "\n",
              "[5 rows x 10 columns]"
            ]
          },
          "metadata": {
            "tags": []
          },
          "execution_count": 8
        }
      ]
    },
    {
      "cell_type": "markdown",
      "metadata": {
        "id": "sh_Nl9576Z3H",
        "colab_type": "text"
      },
      "source": [
        "### 3. Set the embedding sizes\n",
        "Create a variable \"cat_szs\" to hold the number of categories in each variable.<br>\n",
        "Then create a variable \"emb_szs\" to hold the list of (category size, embedding size) tuples."
      ]
    },
    {
      "cell_type": "code",
      "metadata": {
        "id": "vkiOlvio6Z3I",
        "colab_type": "code",
        "colab": {
          "base_uri": "https://localhost:8080/",
          "height": 34
        },
        "outputId": "812bb883-98e6-460b-bf8c-36ac5ca41358"
      },
      "source": [
        "# CODE HERE\n",
        "cat_szs = [df[cat].values.categories.size for cat in cat_cols]\n",
        "emb_szs = [(size, min(20, (size+1)//2)) for size in cat_szs]\n",
        "emb_szs"
      ],
      "execution_count": 71,
      "outputs": [
        {
          "output_type": "execute_result",
          "data": {
            "text/plain": [
              "[(2, 1), (14, 7), (6, 3), (5, 3), (12, 6)]"
            ]
          },
          "metadata": {
            "tags": []
          },
          "execution_count": 71
        }
      ]
    },
    {
      "cell_type": "code",
      "metadata": {
        "id": "g9U3nNwf6Z3K",
        "colab_type": "code",
        "colab": {},
        "outputId": "daaa2d52-ccd4-4d7d-c515-405e2d6d09d7"
      },
      "source": [
        "# DON'T WRITE HERE"
      ],
      "execution_count": 0,
      "outputs": [
        {
          "output_type": "execute_result",
          "data": {
            "text/plain": [
              "[(2, 1), (14, 7), (6, 3), (5, 3), (12, 6)]"
            ]
          },
          "metadata": {
            "tags": []
          },
          "execution_count": 6
        }
      ]
    },
    {
      "cell_type": "markdown",
      "metadata": {
        "id": "1BqXtlr56Z3M",
        "colab_type": "text"
      },
      "source": [
        "### 4. Create an array of categorical values\n",
        "Create a NumPy array called \"cats\" that contains a stack of each categorical column <tt>.cat.codes.values</tt><br>\n",
        "Note: your output may contain different values. Ours came after performing the shuffle step shown above."
      ]
    },
    {
      "cell_type": "code",
      "metadata": {
        "id": "FI2s6IlQ6Z3M",
        "colab_type": "code",
        "colab": {
          "base_uri": "https://localhost:8080/",
          "height": 101
        },
        "outputId": "982174b3-eee1-4ad7-d48c-44bfa83243da"
      },
      "source": [
        "# CODE HERE\n",
        "cats = np.stack([df[cat].cat.codes.values for cat in cat_cols], axis=1)\n",
        "\n",
        "# RUN THIS CODE TO COMPARE RESULTS\n",
        "cats[:5]"
      ],
      "execution_count": 72,
      "outputs": [
        {
          "output_type": "execute_result",
          "data": {
            "text/plain": [
              "array([[ 1, 10,  3,  2,  1],\n",
              "       [ 1, 11,  1,  1,  2],\n",
              "       [ 1, 10,  0,  3,  7],\n",
              "       [ 0, 12,  3,  0,  7],\n",
              "       [ 0,  1,  5,  2,  3]], dtype=int8)"
            ]
          },
          "metadata": {
            "tags": []
          },
          "execution_count": 72
        }
      ]
    },
    {
      "cell_type": "code",
      "metadata": {
        "id": "nYD3utMb6Z3O",
        "colab_type": "code",
        "colab": {},
        "outputId": "0e53a94a-7adc-4a66-ce5f-4e95772e3f54"
      },
      "source": [
        "# DON'T WRITE HERE"
      ],
      "execution_count": 0,
      "outputs": [
        {
          "output_type": "execute_result",
          "data": {
            "text/plain": [
              "array([[ 1, 10,  3,  2,  1],\n",
              "       [ 1, 11,  1,  1,  2],\n",
              "       [ 1, 10,  0,  3,  7],\n",
              "       [ 0, 12,  3,  0,  7],\n",
              "       [ 0,  1,  5,  2,  3]], dtype=int8)"
            ]
          },
          "metadata": {
            "tags": []
          },
          "execution_count": 7
        }
      ]
    },
    {
      "cell_type": "markdown",
      "metadata": {
        "id": "yxndYsXE6Z3Q",
        "colab_type": "text"
      },
      "source": [
        "### 5. Convert \"cats\" to a tensor\n",
        "Convert the \"cats\" NumPy array to a tensor of dtype <tt>int64</tt>"
      ]
    },
    {
      "cell_type": "code",
      "metadata": {
        "id": "BLaIo9tM6Z3R",
        "colab_type": "code",
        "colab": {}
      },
      "source": [
        "# CODE HERE\n",
        "cats = torch.tensor(cats, dtype=torch.int64)"
      ],
      "execution_count": 0,
      "outputs": []
    },
    {
      "cell_type": "code",
      "metadata": {
        "id": "sLHbnnk46Z3T",
        "colab_type": "code",
        "colab": {}
      },
      "source": [
        "# DON'T WRITE HERE"
      ],
      "execution_count": 0,
      "outputs": []
    },
    {
      "cell_type": "markdown",
      "metadata": {
        "id": "u2yMVtOg6Z3V",
        "colab_type": "text"
      },
      "source": [
        "### 6. Create an array of continuous values\n",
        "Create a NumPy array called \"conts\" that contains a stack of each continuous column.<br>\n",
        "Note: your output may contain different values. Ours came after performing the shuffle step shown above."
      ]
    },
    {
      "cell_type": "code",
      "metadata": {
        "id": "gsOU3dUw6Z3V",
        "colab_type": "code",
        "colab": {
          "base_uri": "https://localhost:8080/",
          "height": 101
        },
        "outputId": "329e3cf3-7fdc-4f24-9474-ea5e525d9c2e"
      },
      "source": [
        "# CODE HERE\n",
        "conts = np.stack([df[col].values for col in cont_cols], axis=1)\n",
        "\n",
        "# RUN THIS CODE TO COMPARE RESULTS\n",
        "conts[:5]"
      ],
      "execution_count": 74,
      "outputs": [
        {
          "output_type": "execute_result",
          "data": {
            "text/plain": [
              "array([[27, 40],\n",
              "       [47, 50],\n",
              "       [59, 20],\n",
              "       [38, 57],\n",
              "       [64, 40]])"
            ]
          },
          "metadata": {
            "tags": []
          },
          "execution_count": 74
        }
      ]
    },
    {
      "cell_type": "code",
      "metadata": {
        "id": "hFgHQWWo6Z3X",
        "colab_type": "code",
        "colab": {},
        "outputId": "1af4190c-2ab0-4b9c-82bf-449abeaea0d1"
      },
      "source": [
        "# DON'T WRITE HERE"
      ],
      "execution_count": 0,
      "outputs": [
        {
          "output_type": "execute_result",
          "data": {
            "text/plain": [
              "array([[27, 40],\n",
              "       [47, 50],\n",
              "       [59, 20],\n",
              "       [38, 57],\n",
              "       [64, 40]], dtype=int64)"
            ]
          },
          "metadata": {
            "tags": []
          },
          "execution_count": 9
        }
      ]
    },
    {
      "cell_type": "markdown",
      "metadata": {
        "id": "1E0NzUp_6Z3Z",
        "colab_type": "text"
      },
      "source": [
        "### 7. Convert \"conts\" to a tensor\n",
        "Convert the \"conts\" NumPy array to a tensor of dtype <tt>float32</tt>"
      ]
    },
    {
      "cell_type": "code",
      "metadata": {
        "id": "FqZgbXbF6Z3a",
        "colab_type": "code",
        "colab": {
          "base_uri": "https://localhost:8080/",
          "height": 34
        },
        "outputId": "c762123c-3b24-40c5-85cb-992399fefc70"
      },
      "source": [
        "# CODE HERE\n",
        "conts = torch.tensor(conts, dtype=torch.float32)\n",
        "\n",
        "# RUN THIS CODE TO COMPARE RESULTS\n",
        "conts.dtype"
      ],
      "execution_count": 75,
      "outputs": [
        {
          "output_type": "execute_result",
          "data": {
            "text/plain": [
              "torch.float32"
            ]
          },
          "metadata": {
            "tags": []
          },
          "execution_count": 75
        }
      ]
    },
    {
      "cell_type": "code",
      "metadata": {
        "id": "KMVUD7IJ6Z3c",
        "colab_type": "code",
        "colab": {},
        "outputId": "05f7291b-5602-4414-89b4-d5c88f88a433"
      },
      "source": [
        "# DON'T WRITE HERE"
      ],
      "execution_count": 0,
      "outputs": [
        {
          "output_type": "execute_result",
          "data": {
            "text/plain": [
              "torch.float32"
            ]
          },
          "metadata": {
            "tags": []
          },
          "execution_count": 10
        }
      ]
    },
    {
      "cell_type": "markdown",
      "metadata": {
        "id": "Sb_dOC4W6Z3e",
        "colab_type": "text"
      },
      "source": [
        "### 8. Create a label tensor\n",
        "Create a tensor called \"y\" from the values in the label column. Be sure to flatten the tensor so that it can be passed into the CE Loss function."
      ]
    },
    {
      "cell_type": "code",
      "metadata": {
        "id": "kCdp6eeu6Z3f",
        "colab_type": "code",
        "colab": {
          "base_uri": "https://localhost:8080/",
          "height": 34
        },
        "outputId": "cbcda730-6f06-45da-8712-a10f016c62cd"
      },
      "source": [
        "# CODE HERE\n",
        "y = torch.tensor(df[y_col].values, dtype=torch.long).flatten()\n",
        "y[:5]"
      ],
      "execution_count": 76,
      "outputs": [
        {
          "output_type": "execute_result",
          "data": {
            "text/plain": [
              "tensor([0, 1, 0, 1, 0])"
            ]
          },
          "metadata": {
            "tags": []
          },
          "execution_count": 76
        }
      ]
    },
    {
      "cell_type": "code",
      "metadata": {
        "id": "mbpqmLpb-AEg",
        "colab_type": "code",
        "colab": {
          "base_uri": "https://localhost:8080/",
          "height": 34
        },
        "outputId": "adcd45e8-b97a-41eb-b0b9-86a53e7616f5"
      },
      "source": [
        "y.shape"
      ],
      "execution_count": 77,
      "outputs": [
        {
          "output_type": "execute_result",
          "data": {
            "text/plain": [
              "torch.Size([30000])"
            ]
          },
          "metadata": {
            "tags": []
          },
          "execution_count": 77
        }
      ]
    },
    {
      "cell_type": "code",
      "metadata": {
        "id": "g4Jt9_BM6Z3g",
        "colab_type": "code",
        "colab": {}
      },
      "source": [
        "# DON'T WRITE HERE"
      ],
      "execution_count": 0,
      "outputs": []
    },
    {
      "cell_type": "markdown",
      "metadata": {
        "id": "pRvNzWRg6Z3i",
        "colab_type": "text"
      },
      "source": [
        "### 9. Create train and test sets from <tt>cats</tt>, <tt>conts</tt>, and <tt>y</tt>\n",
        "We use the entire batch of 30,000 records, but a smaller batch size will save time during training.<br>\n",
        "We used a test size of 5,000 records, but you can choose another fixed value or a percentage of the batch size.<br>\n",
        "Make sure that your test records remain separate from your training records, without overlap.<br>\n",
        "To make coding slices easier, we recommend assigning batch and test sizes to simple variables like \"b\" and \"t\"."
      ]
    },
    {
      "cell_type": "code",
      "metadata": {
        "id": "jlyCMA206Z3i",
        "colab_type": "code",
        "colab": {}
      },
      "source": [
        "# CODE HERE\n",
        "b = 30000 # suggested batch size\n",
        "t = 5000  # suggested test size\n",
        "\n",
        "#t = int(b * .2)\n",
        "\n",
        "cat_train = cats[:b-t]\n",
        "cat_test = cats[b-t:b]\n",
        "con_train = conts[:b-t]\n",
        "con_test = conts[b-t:b]\n",
        "y_train = y[:b-t]\n",
        "y_test = y[b-t:b]"
      ],
      "execution_count": 0,
      "outputs": []
    },
    {
      "cell_type": "code",
      "metadata": {
        "id": "bcs35Snf9DW2",
        "colab_type": "code",
        "colab": {
          "base_uri": "https://localhost:8080/",
          "height": 34
        },
        "outputId": "3adef8a9-c1f1-442f-ce5c-8d159b94c3ae"
      },
      "source": [
        "y_train.shape, y_test.shape"
      ],
      "execution_count": 79,
      "outputs": [
        {
          "output_type": "execute_result",
          "data": {
            "text/plain": [
              "(torch.Size([25000]), torch.Size([5000]))"
            ]
          },
          "metadata": {
            "tags": []
          },
          "execution_count": 79
        }
      ]
    },
    {
      "cell_type": "code",
      "metadata": {
        "id": "OmIIbUAC6Z3l",
        "colab_type": "code",
        "colab": {}
      },
      "source": [
        "# DON'T WRITE HERE"
      ],
      "execution_count": 0,
      "outputs": []
    },
    {
      "cell_type": "markdown",
      "metadata": {
        "id": "0fCLEG_h6Z3m",
        "colab_type": "text"
      },
      "source": [
        "### Define the model class\n",
        "Run the cell below to define the TabularModel model class we've used before."
      ]
    },
    {
      "cell_type": "code",
      "metadata": {
        "id": "swoU2AkH6Z3n",
        "colab_type": "code",
        "colab": {}
      },
      "source": [
        "class TabularModel(nn.Module):\n",
        "\n",
        "    def __init__(self, emb_szs, n_cont, out_sz, layers, p=0.5):\n",
        "        # Call the parent __init__\n",
        "        super().__init__()\n",
        "        \n",
        "        # Set up the embedding, dropout, and batch normalization layer attributes\n",
        "        self.embeds = nn.ModuleList([nn.Embedding(ni, nf) for ni,nf in emb_szs])\n",
        "        self.emb_drop = nn.Dropout(p)\n",
        "        self.bn_cont = nn.BatchNorm1d(n_cont)\n",
        "        \n",
        "        # Assign a variable to hold a list of layers\n",
        "        layerlist = []\n",
        "        \n",
        "        # Assign a variable to store the number of embedding and continuous layers\n",
        "        n_emb = sum((nf for ni,nf in emb_szs))\n",
        "        n_in = n_emb + n_cont\n",
        "        \n",
        "        # Iterate through the passed-in \"layers\" parameter (ie, [200,100]) to build a list of layers\n",
        "        for i in layers:\n",
        "            layerlist.append(nn.Linear(n_in,i)) \n",
        "            layerlist.append(nn.ReLU(inplace=True))\n",
        "            layerlist.append(nn.BatchNorm1d(i))\n",
        "            layerlist.append(nn.Dropout(p))\n",
        "            n_in = i\n",
        "        layerlist.append(nn.Linear(layers[-1],out_sz))\n",
        "        \n",
        "        # Convert the list of layers into an attribute\n",
        "        self.layers = nn.Sequential(*layerlist)\n",
        "    \n",
        "    def forward(self, x_cat, x_cont):\n",
        "        # Extract embedding values from the incoming categorical data\n",
        "        embeddings = []\n",
        "        for i,e in enumerate(self.embeds):\n",
        "            embeddings.append(e(x_cat[:,i]))\n",
        "        x = torch.cat(embeddings, 1)\n",
        "        # Perform an initial dropout on the embeddings\n",
        "        x = self.emb_drop(x)\n",
        "        \n",
        "        # Normalize the incoming continuous data\n",
        "        x_cont = self.bn_cont(x_cont)\n",
        "        x = torch.cat([x, x_cont], 1)\n",
        "        \n",
        "        # Set up model layers\n",
        "        x = self.layers(x)\n",
        "        return x"
      ],
      "execution_count": 0,
      "outputs": []
    },
    {
      "cell_type": "markdown",
      "metadata": {
        "id": "QDgAR1UU6Z3r",
        "colab_type": "text"
      },
      "source": [
        "### 10. Set the random seed\n",
        "To obtain results that can be recreated, set a torch manual_seed (we used 33)."
      ]
    },
    {
      "cell_type": "code",
      "metadata": {
        "id": "MK_taZgD6Z3s",
        "colab_type": "code",
        "colab": {
          "base_uri": "https://localhost:8080/",
          "height": 34
        },
        "outputId": "f6a50e46-09f7-41cb-940e-d2280ae712a4"
      },
      "source": [
        "# CODE HERE\n",
        "torch.manual_seed(33)"
      ],
      "execution_count": 81,
      "outputs": [
        {
          "output_type": "execute_result",
          "data": {
            "text/plain": [
              "<torch._C.Generator at 0x7f52c30dc5f0>"
            ]
          },
          "metadata": {
            "tags": []
          },
          "execution_count": 81
        }
      ]
    },
    {
      "cell_type": "code",
      "metadata": {
        "id": "qNNcBIYE6Z3t",
        "colab_type": "code",
        "colab": {},
        "outputId": "63d80e35-9749-4ebe-d840-6f8be98e941f"
      },
      "source": [
        "# DON'T WRITE HERE"
      ],
      "execution_count": 0,
      "outputs": [
        {
          "output_type": "execute_result",
          "data": {
            "text/plain": [
              "<torch._C.Generator at 0x1e5e64e5e30>"
            ]
          },
          "metadata": {
            "tags": []
          },
          "execution_count": 14
        }
      ]
    },
    {
      "cell_type": "markdown",
      "metadata": {
        "id": "V_f9pd5Z6Z3v",
        "colab_type": "text"
      },
      "source": [
        "### 11. Create a TabularModel instance\n",
        "Create an instance called \"model\" with one hidden layer containing 50 neurons and a dropout layer p-value of 0.4"
      ]
    },
    {
      "cell_type": "code",
      "metadata": {
        "id": "oErSDdjq6Z3v",
        "colab_type": "code",
        "colab": {
          "base_uri": "https://localhost:8080/",
          "height": 386
        },
        "outputId": "0d9a096e-26ef-43a4-ad16-c4e0e2369187"
      },
      "source": [
        "# CODE HERE\n",
        "model = TabularModel(emb_szs, conts.shape[1], 2, [50, 100], p=0.4)\n",
        "\n",
        "# RUN THIS CODE TO COMPARE RESULTS\n",
        "model"
      ],
      "execution_count": 91,
      "outputs": [
        {
          "output_type": "execute_result",
          "data": {
            "text/plain": [
              "TabularModel(\n",
              "  (embeds): ModuleList(\n",
              "    (0): Embedding(2, 1)\n",
              "    (1): Embedding(14, 7)\n",
              "    (2): Embedding(6, 3)\n",
              "    (3): Embedding(5, 3)\n",
              "    (4): Embedding(12, 6)\n",
              "  )\n",
              "  (emb_drop): Dropout(p=0.4, inplace=False)\n",
              "  (bn_cont): BatchNorm1d(2, eps=1e-05, momentum=0.1, affine=True, track_running_stats=True)\n",
              "  (layers): Sequential(\n",
              "    (0): Linear(in_features=22, out_features=50, bias=True)\n",
              "    (1): ReLU(inplace=True)\n",
              "    (2): BatchNorm1d(50, eps=1e-05, momentum=0.1, affine=True, track_running_stats=True)\n",
              "    (3): Dropout(p=0.4, inplace=False)\n",
              "    (4): Linear(in_features=50, out_features=100, bias=True)\n",
              "    (5): ReLU(inplace=True)\n",
              "    (6): BatchNorm1d(100, eps=1e-05, momentum=0.1, affine=True, track_running_stats=True)\n",
              "    (7): Dropout(p=0.4, inplace=False)\n",
              "    (8): Linear(in_features=100, out_features=2, bias=True)\n",
              "  )\n",
              ")"
            ]
          },
          "metadata": {
            "tags": []
          },
          "execution_count": 91
        }
      ]
    },
    {
      "cell_type": "code",
      "metadata": {
        "id": "PE-IFFiI6Z3x",
        "colab_type": "code",
        "colab": {},
        "outputId": "837f1ec7-d74b-4e50-f30a-9ac45d73ef23"
      },
      "source": [
        "# DON'T WRITE HERE"
      ],
      "execution_count": 0,
      "outputs": [
        {
          "output_type": "execute_result",
          "data": {
            "text/plain": [
              "TabularModel(\n",
              "  (embeds): ModuleList(\n",
              "    (0): Embedding(2, 1)\n",
              "    (1): Embedding(14, 7)\n",
              "    (2): Embedding(6, 3)\n",
              "    (3): Embedding(5, 3)\n",
              "    (4): Embedding(12, 6)\n",
              "  )\n",
              "  (emb_drop): Dropout(p=0.4)\n",
              "  (bn_cont): BatchNorm1d(2, eps=1e-05, momentum=0.1, affine=True, track_running_stats=True)\n",
              "  (layers): Sequential(\n",
              "    (0): Linear(in_features=22, out_features=50, bias=True)\n",
              "    (1): ReLU(inplace)\n",
              "    (2): BatchNorm1d(50, eps=1e-05, momentum=0.1, affine=True, track_running_stats=True)\n",
              "    (3): Dropout(p=0.4)\n",
              "    (4): Linear(in_features=50, out_features=2, bias=True)\n",
              "  )\n",
              ")"
            ]
          },
          "metadata": {
            "tags": []
          },
          "execution_count": 15
        }
      ]
    },
    {
      "cell_type": "markdown",
      "metadata": {
        "id": "JxMyNi936Z3z",
        "colab_type": "text"
      },
      "source": [
        "### 12. Define the loss and optimization functions\n",
        "Create a loss function called \"criterion\" using CrossEntropyLoss<br>\n",
        "Create an optimization function called \"optimizer\" using Adam, with a learning rate of 0.001"
      ]
    },
    {
      "cell_type": "code",
      "metadata": {
        "id": "PYwPtbv26Z3z",
        "colab_type": "code",
        "colab": {}
      },
      "source": [
        "# CODE HERE\n",
        "\n",
        "criterion = nn.CrossEntropyLoss()\n",
        "optimizer = torch.optim.Adam(model.parameters(), lr=0.001)"
      ],
      "execution_count": 0,
      "outputs": []
    },
    {
      "cell_type": "code",
      "metadata": {
        "id": "ocRiqmIC6Z31",
        "colab_type": "code",
        "colab": {}
      },
      "source": [
        "# DON'T WRITE HERE"
      ],
      "execution_count": 0,
      "outputs": []
    },
    {
      "cell_type": "markdown",
      "metadata": {
        "id": "j9IdL85C6Z33",
        "colab_type": "text"
      },
      "source": [
        "### Train the model\n",
        "Run the cell below to train the model through 300 epochs. Remember, results may vary!<br>\n",
        "After completing the exercises, feel free to come back to this section and experiment with different parameters."
      ]
    },
    {
      "cell_type": "code",
      "metadata": {
        "id": "VAc_njNA6Z33",
        "colab_type": "code",
        "colab": {
          "base_uri": "https://localhost:8080/",
          "height": 336
        },
        "outputId": "ac9495f3-ac09-490c-9f00-d767219dcfc5"
      },
      "source": [
        "import time\n",
        "start_time = time.time()\n",
        "\n",
        "epochs = 400\n",
        "losses = []\n",
        "\n",
        "for i in range(epochs):\n",
        "    i+=1\n",
        "    y_pred = model(cat_train, con_train)\n",
        "    loss = criterion(y_pred, y_train)\n",
        "    losses.append(loss)\n",
        "    \n",
        "    # a neat trick to save screen space:\n",
        "    if i%25 == 1:\n",
        "        print(f'epoch: {i:3}  loss: {loss.item():10.8f}')\n",
        "\n",
        "    optimizer.zero_grad()\n",
        "    loss.backward()\n",
        "    optimizer.step()\n",
        "\n",
        "print(f'epoch: {i:3}  loss: {loss.item():10.8f}') # print the last line\n",
        "print(f'\\nDuration: {time.time() - start_time:.0f} seconds') # print the time elapsed"
      ],
      "execution_count": 93,
      "outputs": [
        {
          "output_type": "stream",
          "text": [
            "epoch:   1  loss: 0.86453682\n",
            "epoch:  26  loss: 0.54661065\n",
            "epoch:  51  loss: 0.48598558\n",
            "epoch:  76  loss: 0.45464137\n",
            "epoch: 101  loss: 0.42302543\n",
            "epoch: 126  loss: 0.39990175\n",
            "epoch: 151  loss: 0.37898561\n",
            "epoch: 176  loss: 0.36341754\n",
            "epoch: 201  loss: 0.35304555\n",
            "epoch: 226  loss: 0.34342605\n",
            "epoch: 251  loss: 0.33352172\n",
            "epoch: 276  loss: 0.32939640\n",
            "epoch: 301  loss: 0.32187253\n",
            "epoch: 326  loss: 0.32049000\n",
            "epoch: 351  loss: 0.30909532\n",
            "epoch: 376  loss: 0.30645418\n",
            "epoch: 400  loss: 0.30566895\n",
            "\n",
            "Duration: 187 seconds\n"
          ],
          "name": "stdout"
        }
      ]
    },
    {
      "cell_type": "markdown",
      "metadata": {
        "id": "o9F5jKej6Z35",
        "colab_type": "text"
      },
      "source": [
        "### 13. Plot the Cross Entropy Loss against epochs\n",
        "Results may vary. The shape of the plot is what matters."
      ]
    },
    {
      "cell_type": "code",
      "metadata": {
        "id": "pHMg8FDR6Z35",
        "colab_type": "code",
        "colab": {
          "base_uri": "https://localhost:8080/",
          "height": 296
        },
        "outputId": "7034a04a-fe66-47f5-8e12-be1affb1602d"
      },
      "source": [
        "# CODE HERE\n",
        "plt.plot(range(epochs), losses)\n",
        "plt.xlabel('Epochs')\n",
        "plt.ylabel('Cross Entropy Loss')\n"
      ],
      "execution_count": 94,
      "outputs": [
        {
          "output_type": "execute_result",
          "data": {
            "text/plain": [
              "Text(0, 0.5, 'Cross Entropy Loss')"
            ]
          },
          "metadata": {
            "tags": []
          },
          "execution_count": 94
        },
        {
          "output_type": "display_data",
          "data": {
            "image/png": "[encoded data removed]",
            "text/plain": [
              "<Figure size 432x288 with 1 Axes>"
            ]
          },
          "metadata": {
            "tags": [],
            "needs_background": "light"
          }
        }
      ]
    },
    {
      "cell_type": "code",
      "metadata": {
        "scrolled": true,
        "id": "uBdT0D7u6Z37",
        "colab_type": "code",
        "colab": {},
        "outputId": "8ade58d3-52c9-4c34-90bd-74fd125f6c28"
      },
      "source": [
        "# DON'T WRITE HERE"
      ],
      "execution_count": 0,
      "outputs": [
        {
          "output_type": "display_data",
          "data": {
            "image/png": "[encoded data removed]",
            "text/plain": [
              "<Figure size 432x288 with 1 Axes>"
            ]
          },
          "metadata": {
            "tags": [],
            "needs_background": "light"
          }
        }
      ]
    },
    {
      "cell_type": "markdown",
      "metadata": {
        "id": "08iSHxfJ6Z39",
        "colab_type": "text"
      },
      "source": [
        "### 14. Evaluate the test set\n",
        "With torch set to <tt>no_grad</tt>, pass <tt>cat_test</tt> and <tt>con_test</tt> through the trained model. Create a validation set called \"y_val\". Compare the output to <tt>y_test</tt> using the loss function defined above. Results may vary."
      ]
    },
    {
      "cell_type": "code",
      "metadata": {
        "id": "okdvkxQU6Z39",
        "colab_type": "code",
        "colab": {
          "base_uri": "https://localhost:8080/",
          "height": 34
        },
        "outputId": "93f27dbb-f918-40d7-d9c2-0fadeb263294"
      },
      "source": [
        "# CODE HERE\n",
        "with torch.no_grad():\n",
        "  y_val = model(cat_test, con_test)\n",
        "  loss = criterion(y_val, y_test)\n",
        "\n",
        "# RUN THIS CODE TO COMPARE RESULTS\n",
        "print(f'CE Loss: {loss:.8f}')"
      ],
      "execution_count": 95,
      "outputs": [
        {
          "output_type": "stream",
          "text": [
            "CE Loss: 0.31720659\n"
          ],
          "name": "stdout"
        }
      ]
    },
    {
      "cell_type": "code",
      "metadata": {
        "id": "Nl9x5Q-G6Z3_",
        "colab_type": "code",
        "colab": {},
        "outputId": "4d3a7ca3-bc98-4722-aa46-aa61d813b13a"
      },
      "source": [
        "# TO EVALUATE THE TEST SET"
      ],
      "execution_count": 0,
      "outputs": [
        {
          "output_type": "stream",
          "text": [
            "CE Loss: 0.30774996\n"
          ],
          "name": "stdout"
        }
      ]
    },
    {
      "cell_type": "markdown",
      "metadata": {
        "id": "LWMN5MyZ6Z4B",
        "colab_type": "text"
      },
      "source": [
        "### 15. Calculate the overall percent accuracy\n",
        "Using a for loop, compare the argmax values of the <tt>y_val</tt> validation set to the <tt>y_test</tt> set."
      ]
    },
    {
      "cell_type": "code",
      "metadata": {
        "id": "MwStrhoa6Z4B",
        "colab_type": "code",
        "colab": {
          "base_uri": "https://localhost:8080/",
          "height": 50
        },
        "outputId": "61a20181-b8e0-4270-c234-92d0d8d9da8c"
      },
      "source": [
        "# CODE HERE\n",
        "rows = len(y_test)\n",
        "corrects = 0 \n",
        "for i in range(rows):\n",
        "  if(y_val[i].argmax().item() == y_test[i]):\n",
        "    corrects += 1\n",
        "cor_per = round(100*corrects/rows, 2)\n",
        "print(f'Correct percentage: {cor_per:.2f}%')\n",
        "print(f'{corrects} out of {rows}')\n"
      ],
      "execution_count": 96,
      "outputs": [
        {
          "output_type": "stream",
          "text": [
            "Correct percentage: 85.42%\n",
            "4271 out of 5000\n"
          ],
          "name": "stdout"
        }
      ]
    },
    {
      "cell_type": "code",
      "metadata": {
        "id": "7W9SgL_x6Z4D",
        "colab_type": "code",
        "colab": {},
        "outputId": "2ee0c09f-dbf2-4f4d-e7f7-70219edf36ca"
      },
      "source": [
        "# DON'T WRITE HERE"
      ],
      "execution_count": 0,
      "outputs": [
        {
          "output_type": "stream",
          "text": [
            "\n",
            "4255 out of 5000 = 85.10% correct\n"
          ],
          "name": "stdout"
        }
      ]
    },
    {
      "cell_type": "markdown",
      "metadata": {
        "id": "J8exD5iG6Z4E",
        "colab_type": "text"
      },
      "source": [
        "### BONUS: Feed new data through the trained model\n",
        "See if you can write a function that allows a user to input their own values, and generates a prediction.<br>\n",
        "<strong>HINT</strong>:<br>There's no need to build a DataFrame. You can use inputs to populate column variables, convert them to embeddings with a context dictionary, and pass the embedded values directly into the tensor constructors:<br>\n",
        "<pre>mar = input(\"What is the person's marital status? \")\n",
        "mar_d = dict(Divorced=0, Married=1, Married-spouse-absent=2, Never-married=3, Separated=4, Widowed=5)\n",
        "mar = mar_d[mar]\n",
        "cats = torch.tensor([..., ..., mar, ..., ...], dtype=torch.int64).reshape(1,-1)</pre>\n",
        "Make sure that names are put in alphabetical order before assigning numbers.\n",
        "\n",
        "Also, be sure to run <tt>model.eval()</tt> before passing new date through. Good luck!"
      ]
    },
    {
      "cell_type": "code",
      "metadata": {
        "id": "335bG5s96Z4F",
        "colab_type": "code",
        "colab": {}
      },
      "source": [
        "# WRITE YOUR CODE HERE:\n"
      ],
      "execution_count": 0,
      "outputs": []
    },
    {
      "cell_type": "code",
      "metadata": {
        "id": "WCyDfUei6Z4G",
        "colab_type": "code",
        "colab": {}
      },
      "source": [
        "# RUN YOUR CODE HERE:\n"
      ],
      "execution_count": 0,
      "outputs": []
    },
    {
      "cell_type": "code",
      "metadata": {
        "id": "3YDhh9PS6Z4J",
        "colab_type": "code",
        "colab": {},
        "outputId": "e7a272e5-d25b-471a-8404-a092fe7c07dd"
      },
      "source": [
        "# DON'T WRITE HERE"
      ],
      "execution_count": 0,
      "outputs": [
        {
          "output_type": "stream",
          "text": [
            "What is the person's age? (18-90)  22\n",
            "What is the person's sex? (Male/Female) male\n",
            "What is the person's education level? (3-16) 12\n",
            "What is the person's marital status? married\n",
            "What is the person's workclass? private\n",
            "What is the person's occupation? sales\n",
            "How many hours/week are worked? (20-90)  40\n",
            "\n",
            "The predicted label is 0\n"
          ],
          "name": "stdout"
        }
      ]
    },
    {
      "cell_type": "markdown",
      "metadata": {
        "id": "V55Z5dJ26Z4L",
        "colab_type": "text"
      },
      "source": [
        "## Great job!"
      ]
    }
  ]
}